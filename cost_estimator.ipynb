{
 "cells": [
  {
   "cell_type": "code",
   "execution_count": 24,
   "metadata": {},
   "outputs": [
    {
     "name": "stdout",
     "output_type": "stream",
     "text": [
      "{'cost_add': {1: 3348683.3125, 2: 4208348.166666666, 8: 10226053.1, 16: 17228667.666666664, 32: 36710276.75, 64: 76103345.5, 128: 151751243.5, 256: 408374136.0}}\n"
     ]
    }
   ],
   "source": [
    "import os\n",
    "import json\n",
    "import pandas as pd\n",
    "import numpy as np\n",
    "import matplotlib.pyplot as plt\n",
    "from sklearn.linear_model import LinearRegression\n",
    "    \n",
    "paths = [f.path for f in os.scandir('target/criterion/') if f.is_dir()]\n",
    "paths.remove('target/criterion/report')\n",
    "\n",
    "input_sizes = [1, 2, 8, 16, 32, 64, 128, 256]\n",
    "\n",
    "report = {}\n",
    "\n",
    "for path in paths:\n",
    "    path_end = path.split('/')[-1].split(' ')\n",
    "    function_name = path_end[0]\n",
    "        \n",
    "    for size in input_sizes:\n",
    "        with open(os.path.join(path, str(size), 'base', 'estimates.json'), 'r') as f:\n",
    "            data = json.load(f)\n",
    "            \n",
    "            if function_name not in report:\n",
    "                report[function_name] = {}\n",
    "            \n",
    "            \n",
    "#             report[function_name][scale][size] = {\n",
    "#                 'mean': data['mean']['point_estimate'],\n",
    "#                 'median': data['median']['point_estimate']\n",
    "#             }\n",
    "            \n",
    "            report[function_name][size] = data['median']['point_estimate']\n",
    "        \n",
    "\n",
    "print(report)"
   ]
  },
  {
   "cell_type": "code",
   "execution_count": 25,
   "metadata": {},
   "outputs": [
    {
     "data": {
      "text/html": [
       "<div>\n",
       "<style scoped>\n",
       "    .dataframe tbody tr th:only-of-type {\n",
       "        vertical-align: middle;\n",
       "    }\n",
       "\n",
       "    .dataframe tbody tr th {\n",
       "        vertical-align: top;\n",
       "    }\n",
       "\n",
       "    .dataframe thead th {\n",
       "        text-align: right;\n",
       "    }\n",
       "</style>\n",
       "<table border=\"1\" class=\"dataframe\">\n",
       "  <thead>\n",
       "    <tr style=\"text-align: right;\">\n",
       "      <th></th>\n",
       "      <th>cost_add</th>\n",
       "    </tr>\n",
       "  </thead>\n",
       "  <tbody>\n",
       "    <tr>\n",
       "      <th>1</th>\n",
       "      <td>3.348683e+06</td>\n",
       "    </tr>\n",
       "    <tr>\n",
       "      <th>2</th>\n",
       "      <td>4.208348e+06</td>\n",
       "    </tr>\n",
       "    <tr>\n",
       "      <th>8</th>\n",
       "      <td>1.022605e+07</td>\n",
       "    </tr>\n",
       "    <tr>\n",
       "      <th>16</th>\n",
       "      <td>1.722867e+07</td>\n",
       "    </tr>\n",
       "    <tr>\n",
       "      <th>32</th>\n",
       "      <td>3.671028e+07</td>\n",
       "    </tr>\n",
       "    <tr>\n",
       "      <th>64</th>\n",
       "      <td>7.610335e+07</td>\n",
       "    </tr>\n",
       "    <tr>\n",
       "      <th>128</th>\n",
       "      <td>1.517512e+08</td>\n",
       "    </tr>\n",
       "    <tr>\n",
       "      <th>256</th>\n",
       "      <td>4.083741e+08</td>\n",
       "    </tr>\n",
       "  </tbody>\n",
       "</table>\n",
       "</div>"
      ],
      "text/plain": [
       "         cost_add\n",
       "1    3.348683e+06\n",
       "2    4.208348e+06\n",
       "8    1.022605e+07\n",
       "16   1.722867e+07\n",
       "32   3.671028e+07\n",
       "64   7.610335e+07\n",
       "128  1.517512e+08\n",
       "256  4.083741e+08"
      ]
     },
     "execution_count": 25,
     "metadata": {},
     "output_type": "execute_result"
    }
   ],
   "source": [
    "df = pd.DataFrame(report)\n",
    "df"
   ]
  },
  {
   "cell_type": "code",
   "execution_count": 27,
   "metadata": {},
   "outputs": [
    {
     "data": {
      "image/png": "[encoded data removed]",
      "text/plain": [
       "<Figure size 432x288 with 1 Axes>"
      ]
     },
     "metadata": {
      "needs_background": "light"
     },
     "output_type": "display_data"
    }
   ],
   "source": [
    "X = df.index.values.reshape(-1, 1)\n",
    "Y = df.iloc[:, 0].values.reshape(-1, 1)\n",
    "\n",
    "linear_regressor = LinearRegression()\n",
    "linear_regressor.fit(X, Y)\n",
    "Y_pred = linear_regressor.predict(X)\n",
    "\n",
    "b = max(Y[0] - linear_regressor.coef_, 0)\n",
    "a = linear_regressor.coef_\n",
    "\n",
    "Z = a*X + b\n",
    "\n",
    "plt.scatter(X, Y)\n",
    "plt.plot(X, Y_pred, color='red')\n",
    "plt.plot(X, Z, color='blue')\n",
    "plt.show()"
   ]
  },
  {
   "cell_type": "code",
   "execution_count": null,
   "metadata": {},
   "outputs": [],
   "source": []
  }
 ],
 "metadata": {
  "kernelspec": {
   "display_name": "Python 3",
   "language": "python",
   "name": "python3"
  },
  "language_info": {
   "codemirror_mode": {
    "name": "ipython",
    "version": 3
   },
   "file_extension": ".py",
   "mimetype": "text/x-python",
   "name": "python",
   "nbconvert_exporter": "python",
   "pygments_lexer": "ipython3",
   "version": "3.8.5"
  }
 },
 "nbformat": 4,
 "nbformat_minor": 4
}
