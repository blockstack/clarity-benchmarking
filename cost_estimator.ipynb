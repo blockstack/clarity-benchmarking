{
 "cells": [
  {
   "cell_type": "code",
   "execution_count": 1,
   "metadata": {},
   "outputs": [],
   "source": [
    "import os\n",
    "import json\n",
    "import pandas as pd\n",
    "import numpy as np\n",
    "import matplotlib.pyplot as plt\n",
    "import seaborn as sns\n",
    "from sklearn.linear_model import LinearRegression\n",
    "\n",
    "sns.set_theme()\n",
    "    \n",
    "paths = [f.path for f in os.scandir('target/criterion/') if f.is_dir()]\n",
    "paths.remove('target/criterion/report')\n",
    "\n",
    "input_sizes = [1, 2, 8, 16, 32, 64, 128, 256]\n",
    "\n",
    "report = {}\n",
    "\n",
    "for path in paths:\n",
    "    path_end = path.split('/')[-1].split(' ')\n",
    "    function_name = path_end[0]\n",
    "        \n",
    "    for size in input_sizes:\n",
    "        with open(os.path.join(path, str(size), 'base', 'estimates.json'), 'r') as f:\n",
    "            data = json.load(f)\n",
    "            \n",
    "            if function_name not in report:\n",
    "                report[function_name] = {}\n",
    "            \n",
    "            report[function_name][size] = data['median']['point_estimate']\n",
    "        "
   ]
  },
  {
   "cell_type": "code",
   "execution_count": 2,
   "metadata": {},
   "outputs": [
    {
     "data": {
      "text/html": [
       "<div>\n",
       "<style scoped>\n",
       "    .dataframe tbody tr th:only-of-type {\n",
       "        vertical-align: middle;\n",
       "    }\n",
       "\n",
       "    .dataframe tbody tr th {\n",
       "        vertical-align: top;\n",
       "    }\n",
       "\n",
       "    .dataframe thead th {\n",
       "        text-align: right;\n",
       "    }\n",
       "</style>\n",
       "<table border=\"1\" class=\"dataframe\">\n",
       "  <thead>\n",
       "    <tr style=\"text-align: right;\">\n",
       "      <th></th>\n",
       "      <th>cost_add</th>\n",
       "      <th>cost_sub</th>\n",
       "    </tr>\n",
       "  </thead>\n",
       "  <tbody>\n",
       "    <tr>\n",
       "      <th>1</th>\n",
       "      <td>3.377358e+06</td>\n",
       "      <td>3.232999e+06</td>\n",
       "    </tr>\n",
       "    <tr>\n",
       "      <th>2</th>\n",
       "      <td>4.267805e+06</td>\n",
       "      <td>4.505465e+06</td>\n",
       "    </tr>\n",
       "    <tr>\n",
       "      <th>8</th>\n",
       "      <td>9.174882e+06</td>\n",
       "      <td>1.074067e+07</td>\n",
       "    </tr>\n",
       "    <tr>\n",
       "      <th>16</th>\n",
       "      <td>1.831843e+07</td>\n",
       "      <td>1.835564e+07</td>\n",
       "    </tr>\n",
       "    <tr>\n",
       "      <th>32</th>\n",
       "      <td>3.759202e+07</td>\n",
       "      <td>3.636992e+07</td>\n",
       "    </tr>\n",
       "    <tr>\n",
       "      <th>64</th>\n",
       "      <td>8.210660e+07</td>\n",
       "      <td>7.887210e+07</td>\n",
       "    </tr>\n",
       "    <tr>\n",
       "      <th>128</th>\n",
       "      <td>1.639732e+08</td>\n",
       "      <td>2.892580e+08</td>\n",
       "    </tr>\n",
       "    <tr>\n",
       "      <th>256</th>\n",
       "      <td>4.535765e+08</td>\n",
       "      <td>4.983142e+08</td>\n",
       "    </tr>\n",
       "  </tbody>\n",
       "</table>\n",
       "</div>"
      ],
      "text/plain": [
       "         cost_add      cost_sub\n",
       "1    3.377358e+06  3.232999e+06\n",
       "2    4.267805e+06  4.505465e+06\n",
       "8    9.174882e+06  1.074067e+07\n",
       "16   1.831843e+07  1.835564e+07\n",
       "32   3.759202e+07  3.636992e+07\n",
       "64   8.210660e+07  7.887210e+07\n",
       "128  1.639732e+08  2.892580e+08\n",
       "256  4.535765e+08  4.983142e+08"
      ]
     },
     "execution_count": 2,
     "metadata": {},
     "output_type": "execute_result"
    }
   ],
   "source": [
    "df = pd.DataFrame(report)\n",
    "df"
   ]
  },
  {
   "cell_type": "code",
   "execution_count": 42,
   "metadata": {},
   "outputs": [],
   "source": [
    "def estimate_params(df, name, transform = lambda x: x):\n",
    "    X = df.index.values.reshape(-1, 1)\n",
    "    Y = df[name].values.reshape(-1, 1)\n",
    "    Y = transform(Y)\n",
    "\n",
    "    linear_regressor = LinearRegression()\n",
    "    linear_regressor.fit(X, Y)\n",
    "    Y_pred = linear_regressor.predict(X)\n",
    "\n",
    "    b = max(Y[0] - linear_regressor.coef_, 0)\n",
    "    a = linear_regressor.coef_\n",
    "    \n",
    "    return (a, b)\n",
    "    \n",
    "def logn(n):\n",
    "    return np.log2(n)\n",
    "\n",
    "def nlogn(n):\n",
    "    return n * np.log2(n)\n",
    "\n",
    "def plot(df, name, a, b):\n",
    "    X = df.index.values.reshape(-1, 1)\n",
    "    Y = df[name].values.reshape(-1, 1)\n",
    "\n",
    "    y_pred = a*X + b\n",
    "    \n",
    "    plt.scatter(X, Y, color='orange')\n",
    "    plt.suptitle(name)\n",
    "    plt.plot(X, y_pred, color='blue')\n",
    "    plt.show()\n",
    "\n",
    "def estimate_plot(df, fun_name, output):\n",
    "    a, b = estimate_params(df, fun_name)\n",
    "    output.loc[fun_name] = [a.squeeze(), b.squeeze()]\n",
    "    plot(df, fun_name, a, b)"
   ]
  },
  {
   "cell_type": "code",
   "execution_count": 43,
   "metadata": {},
   "outputs": [
    {
     "data": {
      "image/png": "[encoded data removed]",
      "text/plain": [
       "<Figure size 432x288 with 1 Axes>"
      ]
     },
     "metadata": {},
     "output_type": "display_data"
    },
    {
     "data": {
      "image/png": "[encoded data removed]",
      "text/plain": [
       "<Figure size 432x288 with 1 Axes>"
      ]
     },
     "metadata": {},
     "output_type": "display_data"
    },
    {
     "data": {
      "text/html": [
       "<div>\n",
       "<style scoped>\n",
       "    .dataframe tbody tr th:only-of-type {\n",
       "        vertical-align: middle;\n",
       "    }\n",
       "\n",
       "    .dataframe tbody tr th {\n",
       "        vertical-align: top;\n",
       "    }\n",
       "\n",
       "    .dataframe thead th {\n",
       "        text-align: right;\n",
       "    }\n",
       "</style>\n",
       "<table border=\"1\" class=\"dataframe\">\n",
       "  <thead>\n",
       "    <tr style=\"text-align: right;\">\n",
       "      <th></th>\n",
       "      <th>a</th>\n",
       "      <th>b</th>\n",
       "    </tr>\n",
       "  </thead>\n",
       "  <tbody>\n",
       "    <tr>\n",
       "      <th>cost_add</th>\n",
       "      <td>1719783.6917487958</td>\n",
       "      <td>1657574.5749178708</td>\n",
       "    </tr>\n",
       "    <tr>\n",
       "      <th>cost_sub</th>\n",
       "      <td>2021345.132454916</td>\n",
       "      <td>1211653.7246879414</td>\n",
       "    </tr>\n",
       "  </tbody>\n",
       "</table>\n",
       "</div>"
      ],
      "text/plain": [
       "                           a                   b\n",
       "cost_add  1719783.6917487958  1657574.5749178708\n",
       "cost_sub   2021345.132454916  1211653.7246879414"
      ]
     },
     "execution_count": 43,
     "metadata": {},
     "output_type": "execute_result"
    }
   ],
   "source": [
    "output = pd.DataFrame(columns=[\"a\", \"b\"])\n",
    "\n",
    "estimate_plot(df, 'cost_add', output)\n",
    "estimate_plot(df, 'cost_sub', output)\n",
    "\n",
    "output"
   ]
  },
  {
   "cell_type": "code",
   "execution_count": null,
   "metadata": {},
   "outputs": [],
   "source": []
  }
 ],
 "metadata": {
  "kernelspec": {
   "display_name": "Python 3",
   "language": "python",
   "name": "python3"
  },
  "language_info": {
   "codemirror_mode": {
    "name": "ipython",
    "version": 3
   },
   "file_extension": ".py",
   "mimetype": "text/x-python",
   "name": "python",
   "nbconvert_exporter": "python",
   "pygments_lexer": "ipython3",
   "version": "3.8.5"
  }
 },
 "nbformat": 4,
 "nbformat_minor": 4
}
